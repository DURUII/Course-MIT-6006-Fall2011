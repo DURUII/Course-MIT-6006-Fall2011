{
 "cells": [
  {
   "cell_type": "code",
   "execution_count": 10,
   "metadata": {
    "ExecuteTime": {
     "end_time": "2023-09-10T06:31:07.271999Z",
     "start_time": "2023-09-10T06:31:04.655217Z"
    },
    "slideshow": {
     "slide_type": "skip"
    }
   },
   "outputs": [
    {
     "name": "stdout",
     "output_type": "stream",
     "text": [
      "[NbConvertApp] Converting notebook main.ipynb to slides\n",
      "[NbConvertApp] Writing 279300 bytes to main.slides.html\n"
     ]
    }
   ],
   "source": [
    "!jupyter nbconvert main.ipynb --to slides"
   ]
  },
  {
   "cell_type": "markdown",
   "metadata": {
    "ExecuteTime": {
     "end_time": "2023-09-09T13:30:07.199832Z",
     "start_time": "2023-09-09T13:30:07.192641Z"
    },
    "slideshow": {
     "slide_type": "slide"
    }
   },
   "source": [
    "# Lecture 01: Peak Finder\n",
    "\n",
    "<span>Adapted from MIT 6.006 Introduction to Algorithms(Fall2010 & Fall2011)</span>\n",
    "\n",
    "## Description\n",
    "\n",
    "Definition: An element is a peak if it is no smaller than its neighbors(local property).\n",
    "\n",
    "Problem: Find a peak if it exists.\n",
    "\n",
    "- 1 dimension (array)\n",
    "- 2 dimension (matrix)\n"
   ]
  },
  {
   "cell_type": "markdown",
   "metadata": {
    "slideshow": {
     "slide_type": "slide"
    }
   },
   "source": [
    "# Peak Finding: 1D\n",
    "\n",
    "## Example\n",
    "\n",
    "In 1D case running on an array of numbers ($\\textit{a to i}$), for example, \n",
    "\n",
    "<img src='assets/lec01-1d.png' width='75%'>\n",
    "\n",
    "position 2 is a peak $\\textit{iff}$ $b \\ge a$ and $b \\ge c$. \n",
    "\n",
    "For another, position 9 is a peak $\\textit{iff}$ $i \\ge h$. \n",
    "\n",
    "## Problem \n",
    "\n",
    "Find any peak ~~if it exists~~."
   ]
  },
  {
   "cell_type": "markdown",
   "metadata": {
    "cell_style": "center",
    "slideshow": {
     "slide_type": "subslide"
    }
   },
   "source": [
    "## Q: Does a peak always exist?\n",
    "\n",
    "- if we change the definition into \"A peak element is an element that is strictly greater than its neighbors\", the argument doesn't hold anymore.\n",
    "- Otherwise, peak always exists. \n",
    "\n",
    "### Intuition\n",
    "\n",
    "We may imagine that $A[0] = A[n+1] = - \\infty$, based on description.\n",
    "- Perspective 1: Draw A Function/Curve\n",
    "- Perspective 2: Greedy Ascent Algorithm\n",
    "- Perspective 3: $-\\infty$ suffices, then what about necessity?"
   ]
  },
  {
   "cell_type": "markdown",
   "metadata": {
    "slideshow": {
     "slide_type": "subslide"
    }
   },
   "source": [
    "<img src='assets/lec01-1d-eg.png' width='75%'>"
   ]
  },
  {
   "cell_type": "markdown",
   "metadata": {
    "slideshow": {
     "slide_type": "subslide"
    }
   },
   "source": [
    "## An Algorithm with $\\Theta(\\log_2^n)$ complexity\n",
    "\n",
    "### Strategy\n",
    "\n",
    "Divide and Conquer (~~and Combine~~)\n",
    "1. Divide the problem into disjoint subproblems that are smaller instances of the same problem.\n",
    "2. Conquer the subproblems by solving them recursively. \n",
    "3. Combine the solutions to the subproblems into the solution for the original problem.\n",
    "\n",
    "### Procedure\n",
    "\n",
    "Peek-Finding in $[1, n]$:\n",
    "- if $n = 1$, n is one peak\n",
    "- if $a[n/2-1] > a[n/2]$, Peek-Finding in $[1, n/2-1]$;\n",
    "- else if $a[n/2+1] > a[n/2]$, Peek-Finding in $[n/2+1, n]$;\n",
    "- else $n/2$ is one peak."
   ]
  },
  {
   "cell_type": "markdown",
   "metadata": {
    "ExecuteTime": {
     "end_time": "2023-09-09T20:43:05.215439Z",
     "start_time": "2023-09-09T20:43:05.203763Z"
    },
    "slideshow": {
     "slide_type": "subslide"
    }
   },
   "source": [
    "### Example\n",
    "\n",
    "<img src='assets/lec01-1d-eg2.png' width='75%'>"
   ]
  },
  {
   "cell_type": "markdown",
   "metadata": {
    "slideshow": {
     "slide_type": "slide"
    }
   },
   "source": [
    "# Peak Finding: 2D\n",
    "\n",
    "A peak element in a 2D grid is an element that is no smaller than all of its adjacent neighbors to the left, right, top, and bottom.\n",
    "\n",
    "## Example\n",
    "\n",
    "In 2D case running on an grid of numbers, for example, \n",
    "\n",
    "$a$ is a peak $\\textit{iff}$ $a \\ge b$, $a \\ge d$, $a \\ge c$ and $a \\ge e$. \n",
    "\n",
    "<img src='assets/lec01-2d.png' width='35%'>"
   ]
  },
  {
   "cell_type": "markdown",
   "metadata": {
    "slideshow": {
     "slide_type": "subslide"
    }
   },
   "source": [
    "## Does a peak always exist?\n",
    "\n",
    "- if we change the definition into \"A peak element is an element that is strictly greater than its neighbors\", the argument doesn't hold anymore.\n",
    "- Otherwise, a peak always exist. \n",
    "\n",
    "### Intuition\n",
    "\n",
    "We may assume that the entire matrix is surrounded by an outer perimeter with the value $-\\infty$ in each cell.\n",
    "\n",
    "- Perspective 1: Conjure up an image of a Surface\n",
    "- Perspective 2: Greedy Ascent Algorithm\n",
    "- Perspective 3: $-\\infty$ suffices, then what about necessity?"
   ]
  },
  {
   "cell_type": "markdown",
   "metadata": {
    "slideshow": {
     "slide_type": "subslide"
    }
   },
   "source": [
    "## Attempt #1 with $\\Theta(n m)$ complexity\n",
    "\n",
    "### Procedure\n",
    "\n",
    "- For each column $j$, find its $\\textit{global}$ maximum $B[j]$\n",
    "- Apply 1D peak finder to find a peak (say $B[j]$) of $B[1...m]$\n",
    "\n",
    "### Example\n",
    "\n",
    "<img src=\"assets/lec01-2d-eg.png\" width='90%'>"
   ]
  },
  {
   "cell_type": "markdown",
   "metadata": {
    "cell_style": "center",
    "slideshow": {
     "slide_type": "subslide"
    }
   },
   "source": [
    "## Attempt #2 with $\\Theta(n\\log_2^m)$ complexity\n",
    "\n",
    "### Procedure\n",
    "\n",
    "1. Pick middle column ($j=m/2$)\n",
    "2. Find $\\textit{global}$ maximum $a=A[i,m/2]$in that column (and quit if $m=1$)\n",
    "3. Compare $a$ to $b=A[i,m/2-1]$and $c=A[i,m/2+1]$\n",
    "    - If $b>a$, recursion left columns\n",
    "    - Else if $c>a$, then recursion right columns\n",
    "    - Else $a$ is a 2D peak!"
   ]
  },
  {
   "cell_type": "markdown",
   "metadata": {
    "slideshow": {
     "slide_type": "subslide"
    }
   },
   "source": [
    "### Example\n",
    "\n",
    "<img src=\"assets/lec01-2d-eg2.png\" width='100%'>"
   ]
  },
  {
   "cell_type": "markdown",
   "metadata": {
    "ExecuteTime": {
     "end_time": "2023-09-10T01:56:54.423138Z",
     "start_time": "2023-09-10T01:56:54.412584Z"
    },
    "slideshow": {
     "slide_type": "slide"
    }
   },
   "source": [
    "# Reference\n",
    "\n",
    "1. https://ocw.mit.edu/courses/6-006-introduction-to-algorithms-fall-2011/resources/lecture-1-algorithmic-thinking-peak-finding/\n",
    "2. https://courses.csail.mit.edu/6.006/fall10/lectures/lec02.pdf\n",
    "\n",
    "# Homework\n",
    "\n",
    "- Leetcode 162: https://leetcode.com/problems/find-peak-element/\n",
    "- Leetcode 1901: https://leetcode.com/problems/find-a-peak-element-ii/"
   ]
  }
 ],
 "metadata": {
  "celltoolbar": "Slideshow",
  "kernelspec": {
   "display_name": "Python 3 (ipykernel)",
   "language": "python",
   "name": "python3"
  },
  "language_info": {
   "codemirror_mode": {
    "name": "ipython",
    "version": 3
   },
   "file_extension": ".py",
   "mimetype": "text/x-python",
   "name": "python",
   "nbconvert_exporter": "python",
   "pygments_lexer": "ipython3",
   "version": "3.9.12"
  },
  "rise": {
   "enable_chalkboard": true
  },
  "toc": {
   "base_numbering": 1,
   "nav_menu": {},
   "number_sections": true,
   "sideBar": true,
   "skip_h1_title": false,
   "title_cell": "Table of Contents",
   "title_sidebar": "Contents",
   "toc_cell": false,
   "toc_position": {},
   "toc_section_display": true,
   "toc_window_display": false
  }
 },
 "nbformat": 4,
 "nbformat_minor": 2
}
